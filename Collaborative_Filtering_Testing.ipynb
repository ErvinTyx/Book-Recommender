{
 "cells": [
  {
   "cell_type": "markdown",
   "id": "56a57243-0652-498f-84a7-86cd6bbfccd8",
   "metadata": {},
   "source": [
    "# Collaborative Filtering Model Testing\n",
    "In this notebook, we evaluate a user-based collaborative filtering recommendation model by predicting user ratings for books and comparing them \n",
    "with the actual ratings. The steps include:\n",
    "\n",
    "1. Constructing a user-item rating matrix using the dataset user_ratings_realistic.csv.\n",
    "\n",
    "2. Computing cosine similarity between users to identify top-N similar users.\n",
    "\n",
    "3. Generating predicted ratings by aggregating normalized ratings from similar users.\n",
    "\n",
    "4. Comparing predicted ratings against actual ratings (with known ratings temporarily excluded for unbiased evaluation).\n",
    "\n",
    "\n",
    "To measure the model’s performance, the following metrics are computed:\n",
    "\n",
    "1. RMSE (Root Mean Square Error) – to evaluate average prediction error magnitude.\n",
    "\n",
    "2. MAE (Mean Absolute Error) – for the average absolute error between predicted and actual values.\n",
    "\n",
    "3. Precision / Recall / F1 Score – based on a relevance threshold (rating ≥ 3.0).\n",
    "\n",
    "4. Confusion Matrix – to visualize classification performance for relevant vs. irrelevant items.\n",
    "\n",
    "5. Prediction Error Distribution – via histogram to show how far predictions deviate."
   ]
  },
  {
   "cell_type": "code",
   "execution_count": 4,
   "id": "1412bb35-af90-46e2-a18b-3a2384ffdaec",
   "metadata": {},
   "outputs": [
    {
     "name": "stdout",
     "output_type": "stream",
     "text": [
      "Loading books data...\n",
      "Loading ratings data...\n",
      "Columns in ratings file: ['user_id', 'isbn13', 'ratings', 'categories', 'top_category', 'is_fav_category']\n",
      "Ratings before cleaning: 1000000\n",
      "Ratings after cleaning: 1000000\n",
      "Data Loaded: 5197 books, 3 users, 1000000 ratings.\n",
      "Sample ratings data:\n",
      "   user_id         isbn13  rating              categories top_category  \\\n",
      "0        1  9780552153577       4  Persian Gulf War, 1991      Fiction   \n",
      "1        1  9780140139976       5                 Fiction      Fiction   \n",
      "2        1  9780755311514       3                   Magic      Fiction   \n",
      "3        1  9780786809288       2        Juvenile Fiction      Fiction   \n",
      "4        1  9780515141672       5                 Fiction      Fiction   \n",
      "\n",
      "   is_fav_category        book_id  \n",
      "0            False  9780552153577  \n",
      "1             True  9780140139976  \n",
      "2            False  9780755311514  \n",
      "3            False  9780786809288  \n",
      "4             True  9780515141672  \n",
      "Creating user-item matrix...\n",
      "Added 1000000 ratings to user-item matrix\n",
      "Computing user similarity...\n",
      "User similarity matrix computed.\n"
     ]
    }
   ],
   "source": [
    "import pandas as pd\n",
    "import numpy as np\n",
    "import matplotlib.pyplot as plt\n",
    "from sklearn.metrics.pairwise import cosine_similarity\n",
    "from sklearn.metrics import mean_squared_error, precision_score, recall_score, f1_score\n",
    "\n",
    "# Import the CollaborativeFiltering class from your modified script\n",
    "# Make sure the file name matches your updated script name\n",
    "from collabirative import CollaborativeFiltering  # Change the import to match your file name"
   ]
  },
  {
   "cell_type": "markdown",
   "id": "ebb5a782-a181-4d8c-b7de-831cfdeafb08",
   "metadata": {
    "scrolled": true
   },
   "source": [
    "### 1. Load Data From CSV"
   ]
  },
  {
   "cell_type": "code",
   "execution_count": 5,
   "id": "f2449ca4-073e-40c7-9762-0c273ea1abdc",
   "metadata": {},
   "outputs": [
    {
     "name": "stdout",
     "output_type": "stream",
     "text": [
      "Loading datasets...\n",
      "Displaying sample of ratings data:\n",
      "   user_id         isbn13  rating              categories top_category  \\\n",
      "0        1  9780552153577       4  Persian Gulf War, 1991      Fiction   \n",
      "1        1  9780140139976       5                 Fiction      Fiction   \n",
      "2        1  9780755311514       3                   Magic      Fiction   \n",
      "3        1  9780786809288       2        Juvenile Fiction      Fiction   \n",
      "4        1  9780515141672       5                 Fiction      Fiction   \n",
      "\n",
      "   is_fav_category        book_id  \n",
      "0            False  9780552153577  \n",
      "1             True  9780140139976  \n",
      "2            False  9780755311514  \n",
      "3            False  9780786809288  \n",
      "4             True  9780515141672  \n"
     ]
    }
   ],
   "source": [
    "print(\"Loading datasets...\")\n",
    "books_path = 'books_cleaned.csv'  # Path to the books dataset\n",
    "users_path = 'users.csv'  # Path to the users dataset\n",
    "ratings_path = 'user_ratings_realistic.csv'  # Path to the ratings dataset\n",
    "\n",
    "# Load the data with appropriate data types\n",
    "books_df = pd.read_csv(books_path, dtype={'isbn13': str})\n",
    "users_df = pd.read_csv(users_path)\n",
    "ratings_df = pd.read_csv(ratings_path, dtype={'isbn13': str})\n",
    "\n",
    "# Clean and prepare the data\n",
    "if 'ratings' in ratings_df.columns and 'rating' not in ratings_df.columns:\n",
    "    ratings_df = ratings_df.rename(columns={'ratings': 'rating'})\n",
    "\n",
    "ratings_df = ratings_df.dropna(subset=['user_id', 'rating'])\n",
    "ratings_df['user_id'] = ratings_df['user_id'].astype(int)\n",
    "ratings_df['rating'] = pd.to_numeric(ratings_df['rating'], errors='coerce')\n",
    "ratings_df['book_id'] = ratings_df['isbn13']\n",
    "\n",
    "# Display cleaned data\n",
    "print(\"Displaying sample of ratings data:\")\n",
    "print(ratings_df.head())"
   ]
  },
  {
   "cell_type": "markdown",
   "id": "b93b1a4c-f41a-45d4-979f-302d3f1492fb",
   "metadata": {},
   "source": [
    "### 2. Initialize the recommender system"
   ]
  },
  {
   "cell_type": "code",
   "execution_count": 6,
   "id": "99feb0f2-a591-429a-af0c-6bfed77bf8be",
   "metadata": {},
   "outputs": [
    {
     "name": "stdout",
     "output_type": "stream",
     "text": [
      "Initializing recommender system...\n",
      "Loading books data...\n",
      "Loading ratings data...\n",
      "Columns in ratings file: ['user_id', 'isbn13', 'ratings', 'categories', 'top_category', 'is_fav_category']\n",
      "Ratings before cleaning: 1000000\n",
      "Ratings after cleaning: 1000000\n",
      "Data Loaded: 5197 books, 3 users, 1000000 ratings.\n",
      "Sample ratings data:\n",
      "   user_id         isbn13  rating              categories top_category  \\\n",
      "0        1  9780552153577       4  Persian Gulf War, 1991      Fiction   \n",
      "1        1  9780140139976       5                 Fiction      Fiction   \n",
      "2        1  9780755311514       3                   Magic      Fiction   \n",
      "3        1  9780786809288       2        Juvenile Fiction      Fiction   \n",
      "4        1  9780515141672       5                 Fiction      Fiction   \n",
      "\n",
      "   is_fav_category        book_id  \n",
      "0            False  9780552153577  \n",
      "1             True  9780140139976  \n",
      "2            False  9780755311514  \n",
      "3            False  9780786809288  \n",
      "4             True  9780515141672  \n",
      "Creating user-item matrix...\n",
      "Added 1000000 ratings to user-item matrix\n",
      "Computing user similarity...\n",
      "User similarity matrix computed.\n"
     ]
    }
   ],
   "source": [
    "print(\"Initializing recommender system...\")\n",
    "cf = CollaborativeFiltering()\n",
    "cf.load_data(books_path, users_path, ratings_path)\n",
    "cf.create_user_item_matrix()  \n",
    "cf.compute_user_similarity()"
   ]
  },
  {
   "cell_type": "markdown",
   "id": "caca72ed-64fa-4721-8362-18e7bfd59d30",
   "metadata": {},
   "source": [
    "### 3. Examine user-item matrix shape"
   ]
  },
  {
   "cell_type": "code",
   "execution_count": 7,
   "id": "44847c31-1f2d-4cde-affc-554facb26f18",
   "metadata": {},
   "outputs": [
    {
     "name": "stdout",
     "output_type": "stream",
     "text": [
      "User-item matrix shape: (500, 5195)\n"
     ]
    }
   ],
   "source": [
    "print(f\"User-item matrix shape: {cf.user_item_matrix.shape}\")"
   ]
  },
  {
   "cell_type": "markdown",
   "id": "e51bb0d3-d903-452e-9a21-5983ee45fcb6",
   "metadata": {},
   "source": [
    "### 4. Visualize a subset of the user-item matrix"
   ]
  },
  {
   "cell_type": "code",
   "execution_count": 52,
   "id": "8139f417-79a8-4dfa-a1a5-4e71b15798e9",
   "metadata": {},
   "outputs": [
    {
     "data": {
      "image/png": "[encoded data removed]",
      "text/plain": [
       "<Figure size 1000x800 with 2 Axes>"
      ]
     },
     "metadata": {},
     "output_type": "display_data"
    }
   ],
   "source": [
    "plt.figure(figsize=(10, 8))\n",
    "plt.imshow(cf.user_item_matrix[:10, :10], cmap='viridis')\n",
    "plt.colorbar(label='Rating')\n",
    "plt.title('Subset of User-Item Matrix (10x10)')\n",
    "plt.xlabel('Books')\n",
    "plt.ylabel('Users')\n",
    "plt.show()"
   ]
  },
  {
   "cell_type": "markdown",
   "id": "71df8ae3-c818-4aef-952c-31fdaeeec05e",
   "metadata": {},
   "source": [
    "### 5. Test getting similar users"
   ]
  },
  {
   "cell_type": "code",
   "execution_count": 9,
   "id": "99f3330c-716f-4a5b-8bae-c89a8c205c82",
   "metadata": {},
   "outputs": [
    {
     "name": "stdout",
     "output_type": "stream",
     "text": [
      "Getting similar users for user 1...\n",
      "Similar users found: [(65, 0.39541703920470667), (151, 0.39339912642116165), (495, 0.3928561858827802), (94, 0.3928204163782966), (406, 0.38601017141950356)]\n",
      "Similar users to user 1:\n",
      "User 65: Similarity = 0.3954\n",
      "User 151: Similarity = 0.3934\n",
      "User 495: Similarity = 0.3929\n",
      "User 94: Similarity = 0.3928\n",
      "User 406: Similarity = 0.3860\n"
     ]
    }
   ],
   "source": [
    "test_user_id = 1\n",
    "similar_users = cf.get_similar_users(test_user_id, top_n=5)\n",
    "print(f\"Similar users to user {test_user_id}:\")\n",
    "for user_id, similarity in similar_users:\n",
    "    print(f\"User {user_id}: Similarity = {similarity:.4f}\")"
   ]
  },
  {
   "cell_type": "markdown",
   "id": "ba19514e-2bc0-465a-83fb-d4a955923e3e",
   "metadata": {},
   "source": [
    "### 6. Test recommendation functionality"
   ]
  },
  {
   "cell_type": "code",
   "execution_count": 10,
   "id": "14832118-2db7-414a-b735-3b3302d79fe5",
   "metadata": {},
   "outputs": [
    {
     "name": "stdout",
     "output_type": "stream",
     "text": [
      "\n",
      "Getting recommendations for user 1:\n",
      "Looking up recommendations for user 1\n",
      "User has rated 1953 books\n",
      "Found 3242 candidate books for recommendation\n",
      "Number of recommendations: 10\n",
      "\n",
      "Top Recommendations:\n",
      "1. Desecration by Tim F. LaHaye;Jerry B. Jenkins - Fiction (Predicted Rating: 5.0)\n",
      "--------------------------------------------------------------------------------\n",
      "2. Wideacre by Philippa Gregory - Fiction (Predicted Rating: 5.0)\n",
      "--------------------------------------------------------------------------------\n",
      "3. Gargantua and Pantagruel by François Rabelais - Fiction (Predicted Rating: 5.0)\n",
      "--------------------------------------------------------------------------------\n",
      "4. Sexus by Henry Miller - Fiction (Predicted Rating: 4.95)\n",
      "--------------------------------------------------------------------------------\n",
      "5. Dates From Hell by Kim Harrison;Lynsay Sands;Kelley Armstrong;Lori Handeland - Fiction (Predicted Rating: 4.95)\n",
      "--------------------------------------------------------------------------------\n",
      "6. Mr. Ives' Christmas by Oscar Hijuelos - Fiction (Predicted Rating: 4.95)\n",
      "--------------------------------------------------------------------------------\n",
      "7. Ten Great Works of Philosophy by Robert Paul Wolff - Fiction (Predicted Rating: 4.95)\n",
      "--------------------------------------------------------------------------------\n",
      "8. An Unfortunate Woman by Richard Brautigan - Fiction (Predicted Rating: 4.94)\n",
      "--------------------------------------------------------------------------------\n",
      "9. Helen of Troy by Margaret George - Fiction (Predicted Rating: 4.94)\n",
      "--------------------------------------------------------------------------------\n",
      "10. Island of the Sequined Love Nun by Christopher Moore - Fiction (Predicted Rating: 4.94)\n",
      "--------------------------------------------------------------------------------\n"
     ]
    }
   ],
   "source": [
    "print(f\"\\nGetting recommendations for user {test_user_id}:\")\n",
    "# First, generate all recommendations for the user\n",
    "cf.generate_recommendations(test_user_id, max_recommendations=50)\n",
    "# Then get the first page of recommendations\n",
    "recommendations = cf.get_paginated_recommendations(0)  # Get first page (index 0)\n",
    "print(f\"Number of recommendations: {len(recommendations)}\")\n",
    "\n",
    "# Display recommendations in a more readable format\n",
    "print(\"\\nTop Recommendations:\")\n",
    "for i, (thumbnail, description) in enumerate(recommendations, 1):\n",
    "    print(f\"{i}. {description}\")\n",
    "    print(\"-\" * 80)"
   ]
  },
  {
   "cell_type": "markdown",
   "id": "18abd8cb-e705-48d2-a59b-2324befec6c6",
   "metadata": {},
   "source": [
    "### 7. Test recommendation for another user"
   ]
  },
  {
   "cell_type": "code",
   "execution_count": 11,
   "id": "61976bca-2dda-49b0-a3d8-7429c877628e",
   "metadata": {},
   "outputs": [
    {
     "name": "stdout",
     "output_type": "stream",
     "text": [
      "\n",
      "Getting recommendations for user 2:\n",
      "Looking up recommendations for user 2\n",
      "User has rated 1992 books\n",
      "Found 3203 candidate books for recommendation\n",
      "\n",
      "Top Recommendations for User 2:\n",
      "1. Gun, with Occasional Music by Jonathan Lethem - Fiction (Predicted Rating: 5.0)\n",
      "--------------------------------------------------------------------------------\n",
      "2. The Dharma Bums by Jack Kerouac - Fiction (Predicted Rating: 5.0)\n",
      "--------------------------------------------------------------------------------\n",
      "3. Lights Out by Peter Abrahams - Fiction (Predicted Rating: 5.0)\n",
      "--------------------------------------------------------------------------------\n",
      "4. In Conquest Born by C. S. Friedman - Fiction (Predicted Rating: 5.0)\n",
      "--------------------------------------------------------------------------------\n",
      "5. Up In a Heaval by Piers Anthony - Fiction (Predicted Rating: 4.95)\n",
      "--------------------------------------------------------------------------------\n",
      "6. The Secret Swan by Shana Abé - Fiction (Predicted Rating: 4.95)\n",
      "--------------------------------------------------------------------------------\n",
      "7. This Christmas by Jane Green;Jennifer Coburn;Liz Ireland - Fiction (Predicted Rating: 4.95)\n",
      "--------------------------------------------------------------------------------\n",
      "8. Bitten by Kelley Armstrong - Fiction (Predicted Rating: 4.95)\n",
      "--------------------------------------------------------------------------------\n",
      "9. Reunion by Alan Dean Foster - Fiction (Predicted Rating: 4.94)\n",
      "--------------------------------------------------------------------------------\n",
      "10. Matters of Choice by Noah Gordon - Fiction (Predicted Rating: 4.94)\n",
      "--------------------------------------------------------------------------------\n"
     ]
    }
   ],
   "source": [
    "another_user_id = 2\n",
    "print(f\"\\nGetting recommendations for user {another_user_id}:\")\n",
    "# First, generate all recommendations for the user\n",
    "\n",
    "cf.generate_recommendations(another_user_id, max_recommendations=50)\n",
    "# Then get the first page of recommendations\n",
    "recommendations_2 = cf.get_paginated_recommendations(0)  # Get first page\n",
    "print(\"\\nTop Recommendations for User 2:\")\n",
    "for i, (thumbnail, description) in enumerate(recommendations_2, 1):\n",
    "    print(f\"{i}. {description}\")\n",
    "    print(\"-\" * 80)\n",
    "    "
   ]
  },
  {
   "cell_type": "markdown",
   "id": "f533dcaa-b97c-4cfc-9971-6594f58aaeb8",
   "metadata": {},
   "source": [
    "# Measure Model Performance"
   ]
  },
  {
   "cell_type": "code",
   "execution_count": 44,
   "id": "354dbc33-f047-4dc8-b42b-819295932793",
   "metadata": {},
   "outputs": [],
   "source": [
    "import copy\n",
    "import numpy as np\n",
    "import pandas as pd\n",
    "import matplotlib.pyplot as plt\n",
    "from sklearn.metrics import mean_squared_error, mean_absolute_error, precision_score, recall_score, f1_score, confusion_matrix\n",
    "from sklearn.metrics.pairwise import cosine_similarity"
   ]
  },
  {
   "cell_type": "markdown",
   "id": "5e07c7cb-cdbc-4c98-acb7-e79eb53652ae",
   "metadata": {},
   "source": [
    "###  Select a subset of users and books for evaluation"
   ]
  },
  {
   "cell_type": "code",
   "execution_count": 45,
   "id": "d5679350-1523-4185-b52d-01a25d978b0b",
   "metadata": {},
   "outputs": [
    {
     "name": "stdout",
     "output_type": "stream",
     "text": [
      "\n",
      "Evaluating improved recommender system...\n"
     ]
    }
   ],
   "source": [
    "print(\"\\nEvaluating improved recommender system...\")\n",
    "test_users = list(cf.user_indices.keys())[:10]  # First 10 users\n",
    "test_predictions = []\n",
    "test_actual = []"
   ]
  },
  {
   "cell_type": "markdown",
   "id": "0c535789-d2cf-4b2c-a8be-dc2db8adf258",
   "metadata": {},
   "source": [
    "### Calculate user mean ratings for normalization"
   ]
  },
  {
   "cell_type": "code",
   "execution_count": 46,
   "id": "ac03ea77-660b-49b1-9f26-dd8c8029eb50",
   "metadata": {},
   "outputs": [],
   "source": [
    "user_means = np.zeros(cf.user_item_matrix.shape[0])\n",
    "for u_idx in range(cf.user_item_matrix.shape[0]):\n",
    "    ratings = cf.user_item_matrix[u_idx]\n",
    "    # Only consider actual ratings (>0) for mean calculation\n",
    "    actual_ratings = ratings[ratings > 0]\n",
    "    user_means[u_idx] = np.mean(actual_ratings) if len(actual_ratings) > 0 else 0"
   ]
  },
  {
   "cell_type": "markdown",
   "id": "2a46e4de-3f19-46e2-8d6d-16066aa4d3ca",
   "metadata": {},
   "source": [
    "### Step 1: Loop through a sample of users\n",
    "We iterate over a sample of test users and retrieve the books they've rated. For each rating, we aim to predict it using collaborative filtering and compare it against the actual rating."
   ]
  },
  {
   "cell_type": "code",
   "execution_count": 47,
   "id": "510fbc1c-196a-496d-8d9e-ac7eb17a4693",
   "metadata": {},
   "outputs": [],
   "source": [
    "# For each user, get predictions for books they've rated\n",
    "for user_id in test_users:\n",
    "    user_idx = cf.user_indices.get(user_id)\n",
    "    if user_idx is None:\n",
    "        continue\n",
    "        \n",
    "    user_ratings = ratings_df[ratings_df['user_id'] == user_id]\n",
    "    "
   ]
  },
  {
   "cell_type": "markdown",
   "id": "7334927a-fbe1-4d51-a70e-7241afc86ec8",
   "metadata": {},
   "source": [
    "### Step 2: Limit to 5 books per user\n",
    "To speed up the evaluation process, we only use the first 5 rated books for each user.\n"
   ]
  },
  {
   "cell_type": "markdown",
   "id": "80f15483-7352-4da8-8036-33683659b869",
   "metadata": {},
   "source": [
    "### Step 3: Prevent data leakage\n",
    "Temporarily remove the current rating from the matrix to avoid using it in the prediction process.\n"
   ]
  },
  {
   "cell_type": "markdown",
   "id": "999f1243-1c59-49c5-8c07-1c12764eb7f9",
   "metadata": {},
   "source": [
    "### Step 4: Recompute similarity matrix\n",
    "We create a temporary CollaborativeFiltering object and compute the similarity matrix again without the target rating.\n"
   ]
  },
  {
   "cell_type": "markdown",
   "id": "9e005fca-b6aa-4a99-9e39-561a3f19fe00",
   "metadata": {},
   "source": [
    "### Step 5: Identify top-N similar users\n",
    "We find the top n most similar users (excluding the current user) based on cosine similarity.\n"
   ]
  },
  {
   "cell_type": "markdown",
   "id": "b43c5efd-9245-4b2b-9427-8df721af0cfa",
   "metadata": {},
   "source": [
    "### Step 6: Normalize ratings for prediction\n",
    "Extract ratings from similar users for the target book, normalize them by subtracting each user's mean rating, and prepare for weighted prediction.\n"
   ]
  },
  {
   "cell_type": "markdown",
   "id": "5886beb8-d735-4134-bfc4-c9f592546f90",
   "metadata": {},
   "source": [
    "### Step 7: Compute the weighted prediction or fallback to global average\n",
    "If enough data is available, calculate a weighted average prediction. If not, use global average for that book.\n"
   ]
  },
  {
   "cell_type": "markdown",
   "id": "a587179d-949a-438b-ac8e-30fa21505ffe",
   "metadata": {},
   "source": [
    "### Step 8: Store predictions and print examples\n",
    "Append the predicted and actual ratings to their respective lists. Also, display the first few prediction examples.\n"
   ]
  },
  {
   "cell_type": "code",
   "execution_count": 51,
   "id": "d2cd75ff-daf9-4b6c-b166-81c6d4cbcf4e",
   "metadata": {},
   "outputs": [
    {
     "name": "stdout",
     "output_type": "stream",
     "text": [
      "User 10, Book 9780141441115: Predicted = 5.00, Actual = 5\n",
      "User 10, Book 9780425164174: Predicted = 2.52, Actual = 3\n",
      "User 10, Book 9780060815523: Predicted = 2.69, Actual = 2\n",
      "User 10, Book 9780590692083: Predicted = 2.24, Actual = 1\n",
      "User 10, Book 9780802135780: Predicted = 4.77, Actual = 5\n"
     ]
    },
    {
     "data": {
      "image/png": "[encoded data removed]",
      "text/plain": [
       "<Figure size 1000x600 with 1 Axes>"
      ]
     },
     "metadata": {},
     "output_type": "display_data"
    }
   ],
   "source": [
    "# Initialize prediction lists outside the loop\n",
    "test_predictions = []\n",
    "test_actual = []\n",
    "\n",
    "# Limit to first 5 ratings for faster evaluation\n",
    "for _, row in user_ratings.iloc[:5].iterrows():\n",
    "    book_id = row['book_id']\n",
    "    actual_rating = row['rating']\n",
    "    book_idx = cf.book_indices.get(book_id)\n",
    "    \n",
    "    if book_idx is None:\n",
    "        continue\n",
    "\n",
    "    temp_matrix = cf.user_item_matrix.copy()\n",
    "    temp_matrix[user_idx, book_idx] = 0\n",
    "\n",
    "    temp_cf = copy.deepcopy(cf)\n",
    "    temp_cf.user_item_matrix = temp_matrix\n",
    "    temp_cf.similarity_matrix = cosine_similarity(temp_matrix)\n",
    "\n",
    "    N = 20\n",
    "    similarities = temp_cf.similarity_matrix[user_idx].copy()\n",
    "    similarities[user_idx] = -1\n",
    "    top_indices = np.argsort(similarities)[-N:]\n",
    "    top_similarities = similarities[top_indices]\n",
    "    top_ratings = temp_matrix[top_indices, book_idx]\n",
    "    rated_mask = top_ratings > 0\n",
    "\n",
    "    if np.sum(rated_mask) > 0:\n",
    "        normalized_ratings = np.zeros_like(top_ratings)\n",
    "        for i, u_idx in enumerate(top_indices):\n",
    "            if top_ratings[i] > 0:\n",
    "                normalized_ratings[i] = top_ratings[i] - user_means[u_idx]\n",
    "        numerator = np.sum(top_similarities[rated_mask] * normalized_ratings[rated_mask])\n",
    "        denominator = np.sum(np.abs(top_similarities[rated_mask])) + 1e-10\n",
    "        predicted_rating = user_means[user_idx] + (numerator / denominator)\n",
    "        predicted_rating = min(max(predicted_rating, 1), 5)\n",
    "    else:\n",
    "        global_ratings = temp_matrix[:, book_idx]\n",
    "        actual_global_ratings = global_ratings[global_ratings > 0]\n",
    "        predicted_rating = np.mean(actual_global_ratings) if len(actual_global_ratings) > 0 else 3.0\n",
    "\n",
    "    test_predictions.append(predicted_rating)\n",
    "    test_actual.append(actual_rating)\n",
    "\n",
    "    if len(test_predictions) <= 5:\n",
    "        print(f\"User {user_id}, Book {book_id}: Predicted = {predicted_rating:.2f}, Actual = {actual_rating}\")\n",
    "\n",
    "plt.figure(figsize=(10, 6))\n",
    "plt.scatter(test_actual, test_predictions, alpha=0.6)\n",
    "plt.plot([1, 5], [1, 5], 'r--') \n",
    "plt.xlabel('Actual Ratings')\n",
    "plt.ylabel('Predicted Ratings')\n",
    "plt.title('Predicted vs Actual Ratings')\n",
    "plt.grid(True)\n",
    "plt.show()\n"
   ]
  },
  {
   "cell_type": "markdown",
   "id": "da22bae9-e2e4-414c-b90f-b5c9b7b84ac4",
   "metadata": {},
   "source": [
    "## Calculate RMSE , MAE and Precision, Recall and F1 Score "
   ]
  },
  {
   "cell_type": "code",
   "execution_count": 37,
   "id": "45d0b827-eaff-439b-a120-3555cf467476",
   "metadata": {},
   "outputs": [
    {
     "name": "stdout",
     "output_type": "stream",
     "text": [
      "\n",
      "RMSE for the recommender system: 0.6767\n",
      "MAE for the recommender system: 0.5278\n"
     ]
    }
   ],
   "source": [
    "# Calculate RMSE\n",
    "if test_predictions:\n",
    "    rmse = np.sqrt(mean_squared_error(test_actual, test_predictions))\n",
    "    print(f\"\\nRMSE for the recommender system: {rmse:.4f}\")\n",
    "    \n",
    "    # Calculate MAE\n",
    "    mae = mean_absolute_error(test_actual, test_predictions)\n",
    "    print(f\"MAE for the recommender system: {mae:.4f}\")\n",
    "    \n",
    "    # Calculate Precision, Recall, and F1 Score (threshold of 3.0 for relevance)\n",
    "    threshold = 3.0\n",
    "    predicted_relevant = [1 if pred >= threshold else 0 for pred in test_predictions]\n",
    "    actual_relevant = [1 if actual >= threshold else 0 for actual in test_actual]"
   ]
  },
  {
   "cell_type": "code",
   "execution_count": 32,
   "id": "1746a797-9816-46c1-997a-b29681b59c59",
   "metadata": {},
   "outputs": [
    {
     "name": "stdout",
     "output_type": "stream",
     "text": [
      "Precision: 1.0000\n",
      "Recall: 0.6667\n",
      "F1 Score: 0.8000\n",
      "\n",
      "Confusion Matrix:\n",
      "[[10  0]\n",
      " [ 5 10]]\n"
     ]
    }
   ],
   "source": [
    "# Plot predictions vs actual ratings\n",
    "plt.figure(figsize=(10, 6))\n",
    "plt.scatter(test_actual, test_predictions, alpha=0.6)\n",
    "plt.plot([1, 5], [1, 5], 'r--')  # Perfect prediction line\n",
    "plt.xlabel('Actual Ratings')\n",
    "plt.ylabel('Predicted Ratings')\n",
    "plt.title('Predicted vs Actual Ratings')\n",
    "plt.grid(True)\n",
    "plt.savefig('prediction_vs_actual.png')\n",
    "plt.close()\n",
    "    \n",
    "# Handle possible zero division\n",
    "try:\n",
    "    precision = precision_score(actual_relevant, predicted_relevant)\n",
    "    recall = recall_score(actual_relevant, predicted_relevant)\n",
    "    f1 = f1_score(actual_relevant, predicted_relevant)\n",
    "        \n",
    "    print(f\"Precision: {precision:.4f}\")\n",
    "    print(f\"Recall: {recall:.4f}\")\n",
    "    print(f\"F1 Score: {f1:.4f}\")\n",
    "        \n",
    "    # Create confusion matrix\n",
    "    cm = confusion_matrix(actual_relevant, predicted_relevant)\n",
    "    print(\"\\nConfusion Matrix:\")\n",
    "    print(cm)\n",
    "        \n",
    "except Exception as e:\n",
    "    print(f\"Error calculating metrics: {e}\")\n",
    "    print(\"This can happen if all predictions or actuals belong to a single class\")"
   ]
  },
  {
   "cell_type": "markdown",
   "id": "5add56e8-694c-4cc0-aa75-a0fdc3d204bf",
   "metadata": {},
   "source": [
    "### Additional evaluation - distribution of errors"
   ]
  },
  {
   "cell_type": "code",
   "execution_count": 50,
   "id": "3310b5e2-2fca-4e0b-ac3e-4e1ee9adf8e8",
   "metadata": {},
   "outputs": [
    {
     "data": {
      "image/png": "[encoded data removed]",
      "text/plain": [
       "<Figure size 1000x600 with 1 Axes>"
      ]
     },
     "metadata": {},
     "output_type": "display_data"
    },
    {
     "name": "stdout",
     "output_type": "stream",
     "text": [
      "\n",
      "Error Statistics:\n",
      "Mean Error: 0.2421\n",
      "Standard Deviation of Error: 0.6319\n",
      "Min Error: -0.4815\n",
      "Max Error: 1.2374\n"
     ]
    }
   ],
   "source": [
    "if test_predictions:\n",
    "    errors = np.array(test_predictions) - np.array(test_actual)\n",
    "    \n",
    "    plt.figure(figsize=(10, 6))\n",
    "    plt.hist(errors, bins=9, alpha=0.7)\n",
    "    plt.xlabel('Prediction Error')\n",
    "    plt.ylabel('Frequency')\n",
    "    plt.title('Distribution of Prediction Errors')\n",
    "    plt.grid(True)\n",
    "    plt.show()\n",
    "    \n",
    "    print(\"\\nError Statistics:\")\n",
    "    print(f\"Mean Error: {np.mean(errors):.4f}\")\n",
    "    print(f\"Standard Deviation of Error: {np.std(errors):.4f}\")\n",
    "    print(f\"Min Error: {np.min(errors):.4f}\")\n",
    "    print(f\"Max Error: {np.max(errors):.4f}\")"
   ]
  },
  {
   "cell_type": "code",
   "execution_count": 34,
   "id": "bb68da4a-25f0-4a50-853e-8c4ff8dff5f3",
   "metadata": {},
   "outputs": [
    {
     "name": "stdout",
     "output_type": "stream",
     "text": [
      "\n",
      "Analyzing ratings for book ID 9780552153577:\n"
     ]
    },
    {
     "data": {
      "image/png": "[encoded data removed]",
      "text/plain": [
       "<Figure size 800x600 with 1 Axes>"
      ]
     },
     "metadata": {},
     "output_type": "display_data"
    },
    {
     "name": "stdout",
     "output_type": "stream",
     "text": [
      "Number of ratings: 195\n",
      "Average rating: 2.47\n",
      "Rating distribution:\n",
      "rating\n",
      "1    42\n",
      "2    60\n",
      "3    52\n",
      "4    41\n",
      "Name: count, dtype: int64\n"
     ]
    }
   ],
   "source": [
    "import matplotlib.pyplot as plt\n",
    "\n",
    "# Sample book ID to analyze\n",
    "sample_book_id = \"9780552153577\"  # The book ID used in the notebook example\n",
    "book_ratings = ratings_df[ratings_df['book_id'] == sample_book_id]\n",
    "\n",
    "print(f\"\\nAnalyzing ratings for book ID {sample_book_id}:\")\n",
    "if not book_ratings.empty:\n",
    "    plt.figure(figsize=(8, 6))\n",
    "    plt.hist(book_ratings['rating'], bins=5, alpha=0.7, color='blue')\n",
    "    plt.title(f'Rating Distribution for Book {sample_book_id}')\n",
    "    plt.xlabel('Rating')\n",
    "    plt.ylabel('Frequency')\n",
    "    plt.xticks([1, 2, 3, 4, 5])\n",
    "    plt.grid(axis='y', alpha=0.3)\n",
    "    \n",
    "    # Display the plot here instead of saving it\n",
    "    plt.show()  # Display the plot in the notebook\n",
    "\n",
    "    # Print rating statistics\n",
    "    print(f\"Number of ratings: {len(book_ratings)}\")\n",
    "    print(f\"Average rating: {book_ratings['rating'].mean():.2f}\")\n",
    "    print(f\"Rating distribution:\")\n",
    "    print(book_ratings['rating'].value_counts().sort_index())\n",
    "else:\n",
    "    print(f\"No ratings found for book ID {sample_book_id}\")\n"
   ]
  },
  {
   "cell_type": "code",
   "execution_count": null,
   "id": "1dac733a-ce7d-4d68-a1d9-5620b263b50c",
   "metadata": {},
   "outputs": [],
   "source": []
  },
  {
   "cell_type": "code",
   "execution_count": null,
   "id": "95d2af72-e0b7-4b94-bdd5-eccbe1e96134",
   "metadata": {},
   "outputs": [],
   "source": []
  },
  {
   "cell_type": "code",
   "execution_count": null,
   "id": "91c50452-42c6-4e5f-b659-4931799e28b2",
   "metadata": {},
   "outputs": [],
   "source": []
  },
  {
   "cell_type": "code",
   "execution_count": null,
   "id": "bd67d69e-cf73-4977-8e54-0b418caf3cf7",
   "metadata": {},
   "outputs": [],
   "source": []
  },
  {
   "cell_type": "code",
   "execution_count": null,
   "id": "aac82d3b-e348-42e4-9d8b-6e12b3332799",
   "metadata": {},
   "outputs": [],
   "source": []
  },
  {
   "cell_type": "code",
   "execution_count": null,
   "id": "4d93cd8b-118f-4286-a27e-e124c395b8a5",
   "metadata": {},
   "outputs": [],
   "source": []
  }
 ],
 "metadata": {
  "kernelspec": {
   "display_name": "Python [conda env:base] *",
   "language": "python",
   "name": "conda-base-py"
  },
  "language_info": {
   "codemirror_mode": {
    "name": "ipython",
    "version": 3
   },
   "file_extension": ".py",
   "mimetype": "text/x-python",
   "name": "python",
   "nbconvert_exporter": "python",
   "pygments_lexer": "ipython3",
   "version": "3.12.7"
  }
 },
 "nbformat": 4,
 "nbformat_minor": 5
}
